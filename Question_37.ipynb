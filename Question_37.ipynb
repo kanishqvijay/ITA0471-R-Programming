{
  "nbformat": 4,
  "nbformat_minor": 0,
  "metadata": {
    "colab": {
      "provenance": [],
      "authorship_tag": "ABX9TyNUuEHkuw8+OfbiaN8elgEo"
    },
    "kernelspec": {
      "name": "ir",
      "display_name": "R"
    },
    "language_info": {
      "name": "R"
    }
  },
  "cells": [
    {
      "cell_type": "code",
      "execution_count": 7,
      "metadata": {
        "colab": {
          "base_uri": "https://localhost:8080/",
          "height": 610
        },
        "id": "Vf4ALFYN6wlX",
        "outputId": "194df9f8-6cd1-47f9-a785-604b6c9ca43c"
      },
      "outputs": [
        {
          "output_type": "stream",
          "name": "stdout",
          "text": [
            "\n",
            "Call:\n",
            "lm(formula = weight ~ Time + Diet, data = ChickWeight)\n",
            "\n",
            "Residuals:\n",
            "     Min       1Q   Median       3Q      Max \n",
            "-136.851  -17.151   -2.595   15.033  141.816 \n",
            "\n",
            "Coefficients:\n",
            "            Estimate Std. Error t value Pr(>|t|)    \n",
            "(Intercept)  10.9244     3.3607   3.251  0.00122 ** \n",
            "Time          8.7505     0.2218  39.451  < 2e-16 ***\n",
            "Diet2        16.1661     4.0858   3.957 8.56e-05 ***\n",
            "Diet3        36.4994     4.0858   8.933  < 2e-16 ***\n",
            "Diet4        30.2335     4.1075   7.361 6.39e-13 ***\n",
            "---\n",
            "Signif. codes:  0 ‘***’ 0.001 ‘**’ 0.01 ‘*’ 0.05 ‘.’ 0.1 ‘ ’ 1\n",
            "\n",
            "Residual standard error: 35.99 on 573 degrees of freedom\n",
            "Multiple R-squared:  0.7453,\tAdjusted R-squared:  0.7435 \n",
            "F-statistic: 419.2 on 4 and 573 DF,  p-value: < 2.2e-16\n",
            "\n"
          ]
        },
        {
          "output_type": "stream",
          "name": "stderr",
          "text": [
            "Warning message in model.frame.default(Terms, newdata, na.action = na.action, xlev = object$xlevels):\n",
            "“variable 'Diet' is not a factor”\n"
          ]
        },
        {
          "output_type": "error",
          "ename": "ERROR",
          "evalue": "Error: variable 'Diet' was fitted with type \"factor\" but type \"numeric\" was supplied\n",
          "traceback": [
            "Error: variable 'Diet' was fitted with type \"factor\" but type \"numeric\" was supplied\nTraceback:\n",
            "1. predict(multi_reg_model, newdata = new_data)",
            "2. predict.lm(multi_reg_model, newdata = new_data)",
            "3. .checkMFClasses(cl, m)",
            "4. stop(gettextf(\"variable '%s' was fitted with type \\\"%s\\\" but type \\\"%s\\\" was supplied\", \n .     names(old)[wrong], old[wrong], new[wrong]), call. = FALSE, \n .     domain = NA)"
          ]
        }
      ],
      "source": [
        "#1)\n",
        "# Load the ChickWeight dataset\n",
        "data(ChickWeight)\n",
        "\n",
        "# Create a multi-regression model with Time and Diet as predictors\n",
        "multi_reg_model <- lm(weight ~ Time + Diet, data = ChickWeight)\n",
        "print(summary(multi_reg_model))\n",
        "\n",
        "#2)\n",
        "# Create a new data frame with Time = 10 and Diet = 1\n",
        "new_data <- data.frame(Time = 10, Diet = 1)\n",
        "\n",
        "# Predict the weight\n",
        "predicted_weight <- predict(multi_reg_model, newdata = new_data)\n",
        "print(predicted_weight)\n",
        "\n",
        "#3)\n",
        "# Find the error in the model\n",
        "error <- mean((ChickWeight$weight[ChickWeight$Time == 10 & ChickWeight$Diet == 1] - predicted_weight)^2)\n",
        "print(error)"
      ]
    },
    {
      "cell_type": "code",
      "source": [
        "titanic_df"
      ],
      "metadata": {
        "colab": {
          "base_uri": "https://localhost:8080/",
          "height": 1000
        },
        "id": "Cpi-Nx7JDxa7",
        "outputId": "111d0bee-43bd-459c-9055-a3d6f13c8e93"
      },
      "execution_count": 6,
      "outputs": [
        {
          "output_type": "display_data",
          "data": {
            "text/html": [
              "<table class=\"dataframe\">\n",
              "<caption>A data.frame: 32 × 5</caption>\n",
              "<thead>\n",
              "\t<tr><th scope=col>Class</th><th scope=col>Sex</th><th scope=col>Age</th><th scope=col>Survived</th><th scope=col>Freq</th></tr>\n",
              "\t<tr><th scope=col>&lt;fct&gt;</th><th scope=col>&lt;fct&gt;</th><th scope=col>&lt;fct&gt;</th><th scope=col>&lt;fct&gt;</th><th scope=col>&lt;dbl&gt;</th></tr>\n",
              "</thead>\n",
              "<tbody>\n",
              "\t<tr><td>1st </td><td>Male  </td><td>Child</td><td>No </td><td>  0</td></tr>\n",
              "\t<tr><td>2nd </td><td>Male  </td><td>Child</td><td>No </td><td>  0</td></tr>\n",
              "\t<tr><td>3rd </td><td>Male  </td><td>Child</td><td>No </td><td> 35</td></tr>\n",
              "\t<tr><td>Crew</td><td>Male  </td><td>Child</td><td>No </td><td>  0</td></tr>\n",
              "\t<tr><td>1st </td><td>Female</td><td>Child</td><td>No </td><td>  0</td></tr>\n",
              "\t<tr><td>2nd </td><td>Female</td><td>Child</td><td>No </td><td>  0</td></tr>\n",
              "\t<tr><td>3rd </td><td>Female</td><td>Child</td><td>No </td><td> 17</td></tr>\n",
              "\t<tr><td>Crew</td><td>Female</td><td>Child</td><td>No </td><td>  0</td></tr>\n",
              "\t<tr><td>1st </td><td>Male  </td><td>Adult</td><td>No </td><td>118</td></tr>\n",
              "\t<tr><td>2nd </td><td>Male  </td><td>Adult</td><td>No </td><td>154</td></tr>\n",
              "\t<tr><td>3rd </td><td>Male  </td><td>Adult</td><td>No </td><td>387</td></tr>\n",
              "\t<tr><td>Crew</td><td>Male  </td><td>Adult</td><td>No </td><td>670</td></tr>\n",
              "\t<tr><td>1st </td><td>Female</td><td>Adult</td><td>No </td><td>  4</td></tr>\n",
              "\t<tr><td>2nd </td><td>Female</td><td>Adult</td><td>No </td><td> 13</td></tr>\n",
              "\t<tr><td>3rd </td><td>Female</td><td>Adult</td><td>No </td><td> 89</td></tr>\n",
              "\t<tr><td>Crew</td><td>Female</td><td>Adult</td><td>No </td><td>  3</td></tr>\n",
              "\t<tr><td>1st </td><td>Male  </td><td>Child</td><td>Yes</td><td>  5</td></tr>\n",
              "\t<tr><td>2nd </td><td>Male  </td><td>Child</td><td>Yes</td><td> 11</td></tr>\n",
              "\t<tr><td>3rd </td><td>Male  </td><td>Child</td><td>Yes</td><td> 13</td></tr>\n",
              "\t<tr><td>Crew</td><td>Male  </td><td>Child</td><td>Yes</td><td>  0</td></tr>\n",
              "\t<tr><td>1st </td><td>Female</td><td>Child</td><td>Yes</td><td>  1</td></tr>\n",
              "\t<tr><td>2nd </td><td>Female</td><td>Child</td><td>Yes</td><td> 13</td></tr>\n",
              "\t<tr><td>3rd </td><td>Female</td><td>Child</td><td>Yes</td><td> 14</td></tr>\n",
              "\t<tr><td>Crew</td><td>Female</td><td>Child</td><td>Yes</td><td>  0</td></tr>\n",
              "\t<tr><td>1st </td><td>Male  </td><td>Adult</td><td>Yes</td><td> 57</td></tr>\n",
              "\t<tr><td>2nd </td><td>Male  </td><td>Adult</td><td>Yes</td><td> 14</td></tr>\n",
              "\t<tr><td>3rd </td><td>Male  </td><td>Adult</td><td>Yes</td><td> 75</td></tr>\n",
              "\t<tr><td>Crew</td><td>Male  </td><td>Adult</td><td>Yes</td><td>192</td></tr>\n",
              "\t<tr><td>1st </td><td>Female</td><td>Adult</td><td>Yes</td><td>140</td></tr>\n",
              "\t<tr><td>2nd </td><td>Female</td><td>Adult</td><td>Yes</td><td> 80</td></tr>\n",
              "\t<tr><td>3rd </td><td>Female</td><td>Adult</td><td>Yes</td><td> 76</td></tr>\n",
              "\t<tr><td>Crew</td><td>Female</td><td>Adult</td><td>Yes</td><td> 20</td></tr>\n",
              "</tbody>\n",
              "</table>\n"
            ],
            "text/markdown": "\nA data.frame: 32 × 5\n\n| Class &lt;fct&gt; | Sex &lt;fct&gt; | Age &lt;fct&gt; | Survived &lt;fct&gt; | Freq &lt;dbl&gt; |\n|---|---|---|---|---|\n| 1st  | Male   | Child | No  |   0 |\n| 2nd  | Male   | Child | No  |   0 |\n| 3rd  | Male   | Child | No  |  35 |\n| Crew | Male   | Child | No  |   0 |\n| 1st  | Female | Child | No  |   0 |\n| 2nd  | Female | Child | No  |   0 |\n| 3rd  | Female | Child | No  |  17 |\n| Crew | Female | Child | No  |   0 |\n| 1st  | Male   | Adult | No  | 118 |\n| 2nd  | Male   | Adult | No  | 154 |\n| 3rd  | Male   | Adult | No  | 387 |\n| Crew | Male   | Adult | No  | 670 |\n| 1st  | Female | Adult | No  |   4 |\n| 2nd  | Female | Adult | No  |  13 |\n| 3rd  | Female | Adult | No  |  89 |\n| Crew | Female | Adult | No  |   3 |\n| 1st  | Male   | Child | Yes |   5 |\n| 2nd  | Male   | Child | Yes |  11 |\n| 3rd  | Male   | Child | Yes |  13 |\n| Crew | Male   | Child | Yes |   0 |\n| 1st  | Female | Child | Yes |   1 |\n| 2nd  | Female | Child | Yes |  13 |\n| 3rd  | Female | Child | Yes |  14 |\n| Crew | Female | Child | Yes |   0 |\n| 1st  | Male   | Adult | Yes |  57 |\n| 2nd  | Male   | Adult | Yes |  14 |\n| 3rd  | Male   | Adult | Yes |  75 |\n| Crew | Male   | Adult | Yes | 192 |\n| 1st  | Female | Adult | Yes | 140 |\n| 2nd  | Female | Adult | Yes |  80 |\n| 3rd  | Female | Adult | Yes |  76 |\n| Crew | Female | Adult | Yes |  20 |\n\n",
            "text/latex": "A data.frame: 32 × 5\n\\begin{tabular}{lllll}\n Class & Sex & Age & Survived & Freq\\\\\n <fct> & <fct> & <fct> & <fct> & <dbl>\\\\\n\\hline\n\t 1st  & Male   & Child & No  &   0\\\\\n\t 2nd  & Male   & Child & No  &   0\\\\\n\t 3rd  & Male   & Child & No  &  35\\\\\n\t Crew & Male   & Child & No  &   0\\\\\n\t 1st  & Female & Child & No  &   0\\\\\n\t 2nd  & Female & Child & No  &   0\\\\\n\t 3rd  & Female & Child & No  &  17\\\\\n\t Crew & Female & Child & No  &   0\\\\\n\t 1st  & Male   & Adult & No  & 118\\\\\n\t 2nd  & Male   & Adult & No  & 154\\\\\n\t 3rd  & Male   & Adult & No  & 387\\\\\n\t Crew & Male   & Adult & No  & 670\\\\\n\t 1st  & Female & Adult & No  &   4\\\\\n\t 2nd  & Female & Adult & No  &  13\\\\\n\t 3rd  & Female & Adult & No  &  89\\\\\n\t Crew & Female & Adult & No  &   3\\\\\n\t 1st  & Male   & Child & Yes &   5\\\\\n\t 2nd  & Male   & Child & Yes &  11\\\\\n\t 3rd  & Male   & Child & Yes &  13\\\\\n\t Crew & Male   & Child & Yes &   0\\\\\n\t 1st  & Female & Child & Yes &   1\\\\\n\t 2nd  & Female & Child & Yes &  13\\\\\n\t 3rd  & Female & Child & Yes &  14\\\\\n\t Crew & Female & Child & Yes &   0\\\\\n\t 1st  & Male   & Adult & Yes &  57\\\\\n\t 2nd  & Male   & Adult & Yes &  14\\\\\n\t 3rd  & Male   & Adult & Yes &  75\\\\\n\t Crew & Male   & Adult & Yes & 192\\\\\n\t 1st  & Female & Adult & Yes & 140\\\\\n\t 2nd  & Female & Adult & Yes &  80\\\\\n\t 3rd  & Female & Adult & Yes &  76\\\\\n\t Crew & Female & Adult & Yes &  20\\\\\n\\end{tabular}\n",
            "text/plain": [
              "   Class Sex    Age   Survived Freq\n",
              "1  1st   Male   Child No         0 \n",
              "2  2nd   Male   Child No         0 \n",
              "3  3rd   Male   Child No        35 \n",
              "4  Crew  Male   Child No         0 \n",
              "5  1st   Female Child No         0 \n",
              "6  2nd   Female Child No         0 \n",
              "7  3rd   Female Child No        17 \n",
              "8  Crew  Female Child No         0 \n",
              "9  1st   Male   Adult No       118 \n",
              "10 2nd   Male   Adult No       154 \n",
              "11 3rd   Male   Adult No       387 \n",
              "12 Crew  Male   Adult No       670 \n",
              "13 1st   Female Adult No         4 \n",
              "14 2nd   Female Adult No        13 \n",
              "15 3rd   Female Adult No        89 \n",
              "16 Crew  Female Adult No         3 \n",
              "17 1st   Male   Child Yes        5 \n",
              "18 2nd   Male   Child Yes       11 \n",
              "19 3rd   Male   Child Yes       13 \n",
              "20 Crew  Male   Child Yes        0 \n",
              "21 1st   Female Child Yes        1 \n",
              "22 2nd   Female Child Yes       13 \n",
              "23 3rd   Female Child Yes       14 \n",
              "24 Crew  Female Child Yes        0 \n",
              "25 1st   Male   Adult Yes       57 \n",
              "26 2nd   Male   Adult Yes       14 \n",
              "27 3rd   Male   Adult Yes       75 \n",
              "28 Crew  Male   Adult Yes      192 \n",
              "29 1st   Female Adult Yes      140 \n",
              "30 2nd   Female Adult Yes       80 \n",
              "31 3rd   Female Adult Yes       76 \n",
              "32 Crew  Female Adult Yes       20 "
            ]
          },
          "metadata": {}
        }
      ]
    },
    {
      "cell_type": "code",
      "source": [],
      "metadata": {
        "id": "rfiNCIjwEQWt"
      },
      "execution_count": null,
      "outputs": []
    }
  ]
}